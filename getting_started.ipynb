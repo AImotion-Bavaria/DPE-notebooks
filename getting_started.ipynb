{
 "cells": [
  {
   "cell_type": "markdown",
   "metadata": {
    "deletable": false,
    "editable": false,
    "hide_input": true
   },
   "source": [
    "# Erste Schritte in Python\n",
    "\n",
    "Diese Datei ist ein IPython notebook. Es verfügt über Zellen in denen Python Codezeilen geschrieben werden können. \n",
    "\n",
    "Durch drücken von Shift+Enter (Umschalt+Eingabetaste) in der ausgewählten Zellen wir der Code ausgeführt und das Ergebnis darunter angezeigt.\n",
    "\n",
    "Probier es aus! Klicke auf die folgende Zelle und drücke Schift und Enter gleichzeitig. Unter der Zelle wird\n",
    "```python\n",
    "Hello World \n",
    "```\n",
    "erscheinen."
   ]
  },
  {
   "cell_type": "code",
   "execution_count": null,
   "metadata": {},
   "outputs": [],
   "source": [
    "print('Hello World')"
   ]
  },
  {
   "cell_type": "markdown",
   "metadata": {
    "deletable": false,
    "editable": false
   },
   "source": [
    "Gratulation Du hast dein erstes Python Statement ausgeführt! \n",
    "\n",
    "Wenn Du möchtest kannst du auch jederzeit weitere Zellen einfügen durch drücken des + Symbols in der Toolleiste.\n",
    "\n",
    "## Einfache Statements\n",
    "\n",
    "Python ist eine interpretierte, dynamische typisierte Programmierspache. Das heisst im Gegensatz zu z.B. C++ muss der Code nicht erst kompiliert werden und Variablen haben keinen fest definierten Typ.\n",
    "\n",
    "Variablen können jederzeit durch Zuweisung definiert werden.\n",
    "Hier ein paar Beispiele wie Variablen definiert werden können. Die Zuweisung erfolgt mit einem einfachen ="
   ]
  },
  {
   "cell_type": "code",
   "execution_count": null,
   "metadata": {},
   "outputs": [],
   "source": [
    "a = 42\n",
    "a"
   ]
  },
  {
   "cell_type": "code",
   "execution_count": null,
   "metadata": {},
   "outputs": [],
   "source": [
    "text = 'The old fox...'\n",
    "text"
   ]
  },
  {
   "cell_type": "markdown",
   "metadata": {
    "deletable": false,
    "editable": false
   },
   "source": [
    "Der Rückgabewert des letzten Statements innerhalb einer Zelle wird darunter ausgegeben. Alternativ kann man Werte auch mit dem \n",
    "```python\n",
    "print()\n",
    "```\n",
    "Statement ausgeben.\n",
    "\n",
    "In Python muss jedes Statement in einer neuen Zeile stehen und der Einzug (Anzahl der Leerzeichen zwischen Zeilenanfang und Anfang des Statements) muss gleich sein."
   ]
  },
  {
   "cell_type": "code",
   "execution_count": null,
   "metadata": {},
   "outputs": [],
   "source": [
    "a = True\n",
    "print('Die Variable a hat den Wert',a)\n",
    "text = 15\n",
    "print(text)"
   ]
  },
  {
   "cell_type": "markdown",
   "metadata": {},
   "source": [
    "Die folgende Zelle gibt eine Fehlermeldungen, da der Einzug (Indent) nicht beachtet wurde"
   ]
  },
  {
   "cell_type": "code",
   "execution_count": null,
   "metadata": {},
   "outputs": [],
   "source": [
    "a = True\n",
    " print(a)\n",
    "text = 15\n",
    "print(text)"
   ]
  },
  {
   "cell_type": "markdown",
   "metadata": {},
   "source": [
    "Wohingegen die folgende Zelle ok ist"
   ]
  },
  {
   "cell_type": "code",
   "execution_count": null,
   "metadata": {},
   "outputs": [],
   "source": [
    "    a = True \n",
    "    print(a)\n",
    "    text = 15\n",
    "    print(text)"
   ]
  },
  {
   "cell_type": "markdown",
   "metadata": {},
   "source": [
    "## Variablen\n",
    "Wir haben bereits die Zuweisung an Variablen gesehen. Ein Variablenname darf nur aus einfachen Buchstaben A-z, Zahlen 0-9 und dem Unterstrich _ bestehen. Der Variablenname darf aber nicht mit einer Ziffer beginnen. \n",
    "\n",
    "Sobald einer Variable etwas zugewiesen wird bleibt die Variable mit dem zuletzt zugwiesenen Wert inerhalb des Notebooks bestehen. Die oben definierte Variable\n",
    "```python \n",
    "text\n",
    "```\n",
    "hat also noch immer den letzten wert"
   ]
  },
  {
   "cell_type": "code",
   "execution_count": null,
   "metadata": {},
   "outputs": [],
   "source": [
    "text"
   ]
  },
  {
   "cell_type": "markdown",
   "metadata": {},
   "source": [
    "Wie bereits erwähnt, können einer Variablen beliebige Typen zugewiesen werden. Für leserlichen Code sollte man das aber in der Regel vermeiden. \n",
    "Den aktuelle Typ einer Variable erhält man mit \n",
    "```python\n",
    "type()\n",
    "```"
   ]
  },
  {
   "cell_type": "code",
   "execution_count": null,
   "metadata": {},
   "outputs": [],
   "source": [
    "text = 'Hello World'\n",
    "print(type(text))\n",
    "text = False\n",
    "print(type(text))\n",
    "text = 12\n",
    "print(type(text))\n",
    "text = 12.5\n",
    "print(type(text))"
   ]
  },
  {
   "cell_type": "markdown",
   "metadata": {},
   "source": [
    "## Kommentare\n",
    "Kommentare werden in Python mit # markiert. Der Text, der einem # folgt wird bis zum Ende einer Zeile ignoriert."
   ]
  },
  {
   "cell_type": "code",
   "execution_count": null,
   "metadata": {},
   "outputs": [],
   "source": [
    "# Definition einer Variablen\n",
    "a = 42 # The answer to Life, the Universe, everything\n",
    "a"
   ]
  },
  {
   "cell_type": "markdown",
   "metadata": {},
   "source": [
    "## Boolsche Operatoren \n",
    "\n",
    "Um Werte zu vergleichen und logische Ausdrücke zu formen, gibt es in Python die Operatoren  \n",
    "```python \n",
    "<, >, ==, !=, <=, >=\n",
    "```\n",
    "sowie\n",
    "```python\n",
    "and, or , not\n",
    "```\n",
    "Mit Klammern können ausrdrücke gruppiert werden."
   ]
  },
  {
   "cell_type": "code",
   "execution_count": null,
   "metadata": {},
   "outputs": [],
   "source": [
    "a = 5\n",
    "a >3 and (not False or 2.3 <=9)"
   ]
  },
  {
   "cell_type": "markdown",
   "metadata": {},
   "source": [
    "## Listen\n",
    "\n",
    "Als einfache Container gibt es in Python Listen definiert durch eckige Klammern und mit , separiert."
   ]
  },
  {
   "cell_type": "code",
   "execution_count": null,
   "metadata": {},
   "outputs": [],
   "source": [
    "list_of_numbers = [1,1,2,3,5,8]\n",
    "list_of_strings = ['hello','world']\n",
    "list_with_mixed_types = [1,'hello',True,3.141]\n",
    "empty_list = []"
   ]
  },
  {
   "cell_type": "markdown",
   "metadata": {},
   "source": [
    "Listen sind 0-indiziert, d.h. das erste Element hat index 0.\n",
    "Wir können auf die Elemente wie folgt zugreifen:"
   ]
  },
  {
   "cell_type": "code",
   "execution_count": null,
   "metadata": {},
   "outputs": [],
   "source": [
    "print('Wert bei Index 0',list_of_numbers[0])\n",
    "print('Wert bei Index 4',list_of_numbers[4])"
   ]
  },
  {
   "cell_type": "markdown",
   "metadata": {},
   "source": [
    "Mit negativen Indices erhält man die Element vom Ende gezählt"
   ]
  },
  {
   "cell_type": "code",
   "execution_count": null,
   "metadata": {},
   "outputs": [],
   "source": [
    "list_of_strings[-1] # -1 ist das letzte element"
   ]
  },
  {
   "cell_type": "code",
   "execution_count": null,
   "metadata": {},
   "outputs": [],
   "source": [
    "list_of_strings[-2]"
   ]
  },
  {
   "cell_type": "markdown",
   "metadata": {},
   "source": [
    "Wir können auch mehrere Elemente gleichzeitig erhalten"
   ]
  },
  {
   "cell_type": "code",
   "execution_count": null,
   "metadata": {},
   "outputs": [],
   "source": [
    "list_of_numbers[1:4] # Elemente mit Index 1 (inklusive) bis 4 (exklusive)"
   ]
  },
  {
   "cell_type": "code",
   "execution_count": null,
   "metadata": {},
   "outputs": [],
   "source": [
    "list_of_numbers[:4] # Elemente von 0 bis 4 (exclusive)"
   ]
  },
  {
   "cell_type": "code",
   "execution_count": null,
   "metadata": {},
   "outputs": [],
   "source": [
    "list_of_numbers[-3:]"
   ]
  },
  {
   "cell_type": "markdown",
   "metadata": {},
   "source": [
    "Wir können Listen verändern und erweitern"
   ]
  },
  {
   "cell_type": "code",
   "execution_count": null,
   "metadata": {},
   "outputs": [],
   "source": [
    "list_of_numbers[3] = 42\n",
    "list_of_numbers"
   ]
  },
  {
   "cell_type": "code",
   "execution_count": null,
   "metadata": {},
   "outputs": [],
   "source": [
    "empty_list.append(19)\n",
    "empty_list"
   ]
  },
  {
   "cell_type": "markdown",
   "metadata": {},
   "source": [
    "## Dictionaries\n",
    "Falls Du nicht nur Elemente in einer Liste zusammenfassen möchtest, sondern jedes Element mit einenm Schlüssel (Key) versehen möchtest, dann gibt es dafür Dictionaries. Sie werden mit geschweiften Klammern definiert."
   ]
  },
  {
   "cell_type": "code",
   "execution_count": null,
   "metadata": {},
   "outputs": [],
   "source": [
    "points_dict = {'John': 13, 'Donald': 20, 'Fred': 2} # Die Elemente sind Key: Value Paare\n",
    "points_dict"
   ]
  },
  {
   "cell_type": "markdown",
   "metadata": {},
   "source": [
    "Über den Schlüssel kann man auf den jeweiligen Wert zugreifen, in verändern, oder auch einen neuen Eintrag hinzufügen"
   ]
  },
  {
   "cell_type": "code",
   "execution_count": null,
   "metadata": {},
   "outputs": [],
   "source": [
    "points_dict['John']"
   ]
  },
  {
   "cell_type": "code",
   "execution_count": null,
   "metadata": {},
   "outputs": [],
   "source": [
    "points_dict['Donald'] = 0\n",
    "points_dict"
   ]
  },
  {
   "cell_type": "code",
   "execution_count": null,
   "metadata": {},
   "outputs": [],
   "source": [
    "points_dict['Walter'] = -2.5\n",
    "points_dict"
   ]
  },
  {
   "cell_type": "markdown",
   "metadata": {},
   "source": [
    "## if statement\n",
    "Der syntax eines if statements ist wie folgt. Wichtig ist, dass der Code inhalb des if Statements eingerückt ist."
   ]
  },
  {
   "cell_type": "code",
   "execution_count": null,
   "metadata": {},
   "outputs": [],
   "source": [
    "x = 3\n",
    "if x>0:\n",
    "    print('positive')"
   ]
  },
  {
   "cell_type": "code",
   "execution_count": null,
   "metadata": {},
   "outputs": [],
   "source": [
    "x = -1\n",
    "if x>0:\n",
    "    print('positive')\n",
    "else:\n",
    "    print('not positive')"
   ]
  },
  {
   "cell_type": "markdown",
   "metadata": {},
   "source": [
    "## for loop\n",
    "\n",
    "Auch hier ist das Einrücken innerhalb des for statements wichtig"
   ]
  },
  {
   "cell_type": "code",
   "execution_count": null,
   "metadata": {},
   "outputs": [],
   "source": [
    "x = 0\n",
    "for i in range(5):\n",
    "    x = x + i\n",
    "    print(x)"
   ]
  },
  {
   "cell_type": "markdown",
   "metadata": {},
   "source": [
    "Vergleiche das mit "
   ]
  },
  {
   "cell_type": "code",
   "execution_count": null,
   "metadata": {},
   "outputs": [],
   "source": [
    "x = 0\n",
    "for i in range(5):\n",
    "    x = x + i\n",
    "print(x)"
   ]
  },
  {
   "cell_type": "markdown",
   "metadata": {},
   "source": [
    "Die Schleife geht hier durch alle Integerwerte von 0 (inklusive) bis 5 (exklusive) definiert durch den Iterator\n",
    "```python \n",
    "range(5) \n",
    "```\n",
    "Statt eines Iterators kann man auch eine Liste verwenden"
   ]
  },
  {
   "cell_type": "code",
   "execution_count": null,
   "metadata": {},
   "outputs": [],
   "source": [
    "for s in ['Hello','World']:\n",
    "    print(s)"
   ]
  },
  {
   "cell_type": "markdown",
   "metadata": {},
   "source": [
    "## List Comprehensions\n",
    "Eine Eigenheit von Pandas ist es, dass es einen speziellen Syntax gibt um listen zu erstellen, genannt List Comprehension.\n",
    "Dazu können for und if statments direkt in der Defintion der Liste verwendet werden. \n",
    "\n",
    "Beispiele:"
   ]
  },
  {
   "cell_type": "code",
   "execution_count": null,
   "metadata": {},
   "outputs": [],
   "source": [
    "[i for i in range(10)] # alle Integer von 0 bis 10 (exklusive)"
   ]
  },
  {
   "cell_type": "code",
   "execution_count": null,
   "metadata": {},
   "outputs": [],
   "source": [
    "[i*i+2 for i in range(10)]"
   ]
  },
  {
   "cell_type": "code",
   "execution_count": null,
   "metadata": {},
   "outputs": [],
   "source": [
    "# sehr praktisch um neue Listen basierend auf anderen Listen zu erstellen\n",
    "names = ['john','george','donald']\n",
    "[i.upper() for i in names ]"
   ]
  },
  {
   "cell_type": "code",
   "execution_count": null,
   "metadata": {},
   "outputs": [],
   "source": [
    "# sehr praktisch um neue Listen basierend auf anderen Listen zu erstellen\n",
    "names = ['john','george','donald']\n",
    "[i.upper() for i in names if i != 'donald'] # zusätzliche Bedingung"
   ]
  },
  {
   "cell_type": "markdown",
   "metadata": {},
   "source": [
    "## Funktionen\n",
    "\n",
    "Funktionen werden mit dem\n",
    "```python\n",
    "def \n",
    "```\n",
    "Keyword definiert. Beachte wieder, dass der Code innerhalb der Definition eingerückt sein muss."
   ]
  },
  {
   "cell_type": "code",
   "execution_count": null,
   "metadata": {},
   "outputs": [],
   "source": [
    "def square(x): # beachte den Doppelpunkt\n",
    "    result = x*x\n",
    "    return result\n",
    "\n",
    "square(5)"
   ]
  },
  {
   "cell_type": "markdown",
   "metadata": {},
   "source": [
    "***\n",
    "## Pandas\n",
    "\n",
    "Python zeichnet sich dadurch aus, dass es durch zusätzliche Packages in seiner Funktionalität erweitert werden kann.\n",
    "Im Algemeinen müssen diese Packages erst intalliert werden. \n",
    "Im AnacondaPrompt: \n",
    "```console\n",
    "conda install packagename\n",
    "```\n",
    "Die folgenden Packages wurden während der Erstellung der Conda Umgebung bereits installiert. \n",
    "\n",
    "Um ein Package im Code zu verwenden muss es erst geladen werden. Das folgende Statement lädt das Package Pandas und speichert es in der Variable pd"
   ]
  },
  {
   "cell_type": "code",
   "execution_count": null,
   "metadata": {},
   "outputs": [],
   "source": [
    "import pandas as pd"
   ]
  },
  {
   "cell_type": "markdown",
   "metadata": {},
   "source": [
    "Pandas stellt viele Funktionen zur Verfügung um Daten zu analysieren. Die wichtigsten Objekte sind \n",
    "```python\n",
    "pd.Series()\n",
    "pd.DataFrame()\n",
    "```\n",
    "Eine Series ist ein 1 dimensionaler Kontainer für einen Datenreihe.\n",
    "Ein DataFrame ist hingegen ein 2d dimensionaler Kontainer der eine DatenTabelle enthalten kann.\n",
    "\n",
    "Hier einfache Defintionen basierend auf Listen"
   ]
  },
  {
   "cell_type": "code",
   "execution_count": null,
   "metadata": {},
   "outputs": [],
   "source": [
    "data_list = [5,6,3,7,9,2]\n",
    "data_series = pd.Series(data_list)\n",
    "data_series"
   ]
  },
  {
   "cell_type": "markdown",
   "metadata": {},
   "source": [
    "In der Ausgabe ist die erste Spalte der Index. Die zweite Spalte ist die eigentliche DatenReihe.  \n",
    "\n",
    "Per Default ist der Index von 0 an aufsteigend. Wir können den Index aber auch beliebig manuell setzen: "
   ]
  },
  {
   "cell_type": "code",
   "execution_count": null,
   "metadata": {},
   "outputs": [],
   "source": [
    "data_list = [5,6,3,7,9,2]\n",
    "data_index = [120,123,455,20,1,8]\n",
    "data_series = pd.Series(data_list, index=data_index)\n",
    "data_series"
   ]
  },
  {
   "cell_type": "markdown",
   "metadata": {},
   "source": [
    "DataFrames funktionieren ähnlich. Hier können wir aber Tabellen speichern"
   ]
  },
  {
   "cell_type": "code",
   "execution_count": null,
   "metadata": {},
   "outputs": [],
   "source": [
    "data_array = [[1, 'john'], \n",
    "              [4, 'george'], \n",
    "              [2,'donald']] # Einfach eine Liste von Listen \n",
    "pd.DataFrame(data_array)"
   ]
  },
  {
   "cell_type": "markdown",
   "metadata": {},
   "source": [
    "Hier sehen wir wieder per Default numerierte Indices sowie Spaltennamen. Alternativ:"
   ]
  },
  {
   "cell_type": "code",
   "execution_count": null,
   "metadata": {},
   "outputs": [],
   "source": [
    "data_array = [[1, 'john'], \n",
    "              [4, 'george'], \n",
    "              [2,'donald']] \n",
    "df = pd.DataFrame(data_array, index=[123,312,231],columns=['Points','Name'])\n",
    "df"
   ]
  },
  {
   "cell_type": "markdown",
   "metadata": {},
   "source": [
    "Der Zugriff auf einzelne Elemente erfolgt mit "
   ]
  },
  {
   "cell_type": "code",
   "execution_count": null,
   "metadata": {},
   "outputs": [],
   "source": [
    "df.loc[312,'Points'] # mit Bezug auf den Index bezw Spaltenname"
   ]
  },
  {
   "cell_type": "code",
   "execution_count": null,
   "metadata": {},
   "outputs": [],
   "source": [
    "df.iloc[2,1] # mit Bezug auf die Koordinaten (mit 0 beginnend)"
   ]
  },
  {
   "cell_type": "markdown",
   "metadata": {},
   "source": [
    "Die Spalten eines DataFrames sind Series. Man erhält sie wie folgt"
   ]
  },
  {
   "cell_type": "code",
   "execution_count": null,
   "metadata": {},
   "outputs": [],
   "source": [
    "df['Name']"
   ]
  },
  {
   "cell_type": "markdown",
   "metadata": {},
   "source": [
    "Pandas hat viele Funktionen um Daten zu veranschaulichen, z.B."
   ]
  },
  {
   "cell_type": "code",
   "execution_count": null,
   "metadata": {},
   "outputs": [],
   "source": [
    "y = [i*i for i in range(10)]\n",
    "s = pd.Series(y)\n",
    "s.plot()"
   ]
  },
  {
   "cell_type": "markdown",
   "metadata": {},
   "source": [
    "Der Wert pandas zeigt sich natürlich vorallem bei grossen Datentabellen. Als Beispiel laden wir ein Standard Datenset über Weine in ein DataFrame. Spiele gerne mit diesem Datenset etwas herum."
   ]
  },
  {
   "cell_type": "code",
   "execution_count": null,
   "metadata": {},
   "outputs": [],
   "source": [
    "from sklearn.datasets import load_wine\n",
    "df_wine = load_wine(return_X_y=False, as_frame=True).data\n",
    "df_wine"
   ]
  },
  {
   "cell_type": "code",
   "execution_count": null,
   "metadata": {},
   "outputs": [],
   "source": [
    "df_wine.info()"
   ]
  },
  {
   "cell_type": "code",
   "execution_count": null,
   "metadata": {},
   "outputs": [],
   "source": [
    "df_wine.max()"
   ]
  },
  {
   "cell_type": "code",
   "execution_count": null,
   "metadata": {},
   "outputs": [],
   "source": [
    "df_wine.mean()"
   ]
  },
  {
   "cell_type": "code",
   "execution_count": null,
   "metadata": {},
   "outputs": [],
   "source": [
    "df_wine.columns"
   ]
  },
  {
   "cell_type": "code",
   "execution_count": null,
   "metadata": {},
   "outputs": [],
   "source": [
    "df_wine[['alcohol', 'malic_acid']]"
   ]
  },
  {
   "cell_type": "code",
   "execution_count": null,
   "metadata": {},
   "outputs": [],
   "source": [
    "df_wine.loc[3:20,'flavanoids':'color_intensity']"
   ]
  },
  {
   "cell_type": "code",
   "execution_count": null,
   "metadata": {},
   "outputs": [],
   "source": [
    "df_wine.plot(kind='scatter', x= 'alcohol', y='proline')"
   ]
  },
  {
   "cell_type": "markdown",
   "metadata": {},
   "source": [
    "Pandas erlaubt es einfach Daten aus verschiedensten Formaten zu laden. Zum Beispiel kannst Du die Datei auto-mpg.csv einfach einlesen nachdem Du sie von Moodle heruntergeladen hast."
   ]
  },
  {
   "cell_type": "code",
   "execution_count": null,
   "metadata": {},
   "outputs": [],
   "source": [
    "# passe diesen Pfad an. Wichtig: Behalte das r vor dem Apostrophen ' bei. Andernfalls wird \\ als Escapesymbol interpretirert.\n",
    "datei_pfad = r'C:\\Vorlesung\\datasets\\auto_mpg.csv'\n",
    "df_auto = pd.read_csv(datei_pfad)\n",
    "df_auto"
   ]
  },
  {
   "cell_type": "markdown",
   "metadata": {},
   "source": [
    "Du hast Lust noch mehr über Pandas zu lernen? ... dann gibt es hier noch ein kurzes, interaktives Tutorial https://www.w3schools.com/python/pandas/pandas_series.asp.\n",
    "\n",
    "Für detailierte Fragen ist die Pandas Website eine gute Anlaufstelle https://pandas.pydata.org/docs/getting_started/intro_tutorials/index.html. "
   ]
  },
  {
   "cell_type": "markdown",
   "metadata": {},
   "source": [
    "# Aufgaben\n",
    "Zum Abschluss und Wiederholung hier ein paar Aufgaben."
   ]
  },
  {
   "cell_type": "markdown",
   "metadata": {},
   "source": [
    "1) Definiere eine Variable und weise ihr den Wert 1000 zu, addiere 5 und gebe den Wert aus."
   ]
  },
  {
   "cell_type": "code",
   "execution_count": null,
   "metadata": {},
   "outputs": [],
   "source": []
  },
  {
   "cell_type": "markdown",
   "metadata": {},
   "source": [
    "2) definiere eine Liste mit den Zahlen 1 bis 20"
   ]
  },
  {
   "cell_type": "code",
   "execution_count": null,
   "metadata": {},
   "outputs": [],
   "source": []
  },
  {
   "cell_type": "markdown",
   "metadata": {},
   "source": [
    "3. definiere eine Funktion die eine Liste von Zahlen als Input nimmt und die die Liste nur mit den Zahlen grösser als 10 zurückgibt:\n",
    "[1,12,33,4,5,-1.2] -> [12,33]"
   ]
  },
  {
   "cell_type": "code",
   "execution_count": null,
   "metadata": {},
   "outputs": [],
   "source": [
    "def keep_larger_ten(numbers_list):\n",
    "    result_list = []\n",
    "    # fülle die Funktion aus\n",
    "    \n",
    "    \n",
    "    return result_list\n",
    "\n",
    "test_list = [1,12,33,4,5,-1.2]\n",
    "keep_larger_ten(test_list)"
   ]
  },
  {
   "cell_type": "markdown",
   "metadata": {},
   "source": [
    "4) definiere ein DataFrame mit der Tabelle\n",
    "\n",
    "'Preis', 'Anzahl', 'Sorte'\\\n",
    "1.75, 3, Apfel\\\n",
    "3.5, 4, Kiwi\\\n",
    "1.9, 1, Mango"
   ]
  },
  {
   "cell_type": "code",
   "execution_count": null,
   "metadata": {},
   "outputs": [],
   "source": []
  },
  {
   "cell_type": "markdown",
   "metadata": {},
   "source": [
    "5) Finde aus dem Wine Dataset den durchschnittlichen Alkoholwert der Zeilen 50 bis 100"
   ]
  },
  {
   "cell_type": "code",
   "execution_count": null,
   "metadata": {},
   "outputs": [],
   "source": []
  }
 ],
 "metadata": {
  "celltoolbar": "Edit Metadata",
  "kernelspec": {
   "display_name": "Python 3",
   "language": "python",
   "name": "python3"
  },
  "language_info": {
   "codemirror_mode": {
    "name": "ipython",
    "version": 3
   },
   "file_extension": ".py",
   "mimetype": "text/x-python",
   "name": "python",
   "nbconvert_exporter": "python",
   "pygments_lexer": "ipython3",
   "version": "3.8.8"
  }
 },
 "nbformat": 4,
 "nbformat_minor": 4
}
